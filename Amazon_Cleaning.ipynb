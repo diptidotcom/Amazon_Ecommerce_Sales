{
 "cells": [
  {
   "cell_type": "code",
   "execution_count": 3,
   "id": "be98edf1-de69-4dc8-b707-08d011aa1db6",
   "metadata": {},
   "outputs": [],
   "source": [
    "import matplotlib.pyplot as plt"
   ]
  },
  {
   "cell_type": "code",
   "execution_count": 4,
   "id": "a6fbbfeb-df8f-4ca2-85cf-c67eed38a70f",
   "metadata": {},
   "outputs": [],
   "source": [
    "import pandas as pd"
   ]
  },
  {
   "cell_type": "code",
   "execution_count": 7,
   "id": "ba7ce332-06ec-41ba-8d90-aa24c337f97b",
   "metadata": {},
   "outputs": [],
   "source": [
    "import numpy as np"
   ]
  },
  {
   "cell_type": "code",
   "execution_count": 9,
   "id": "06937a19-4b3a-4f2c-a7ad-0bb5ab9f5da5",
   "metadata": {},
   "outputs": [],
   "source": [
    "import seaborn as sns"
   ]
  },
  {
   "cell_type": "code",
   "execution_count": 10,
   "id": "58436ec1-d2cc-410a-a991-485e4c651ebe",
   "metadata": {},
   "outputs": [],
   "source": [
    "df = pd.read_csv('Amazon Sale Report.csv')"
   ]
  },
  {
   "cell_type": "code",
   "execution_count": 11,
   "id": "0d812216-1b16-4345-92b7-d52606b2fd07",
   "metadata": {},
   "outputs": [
    {
     "data": {
      "text/html": [
       "<div>\n",
       "<style scoped>\n",
       "    .dataframe tbody tr th:only-of-type {\n",
       "        vertical-align: middle;\n",
       "    }\n",
       "\n",
       "    .dataframe tbody tr th {\n",
       "        vertical-align: top;\n",
       "    }\n",
       "\n",
       "    .dataframe thead th {\n",
       "        text-align: right;\n",
       "    }\n",
       "</style>\n",
       "<table border=\"1\" class=\"dataframe\">\n",
       "  <thead>\n",
       "    <tr style=\"text-align: right;\">\n",
       "      <th></th>\n",
       "      <th>index</th>\n",
       "      <th>Order ID</th>\n",
       "      <th>Date</th>\n",
       "      <th>Status</th>\n",
       "      <th>Fulfilment</th>\n",
       "      <th>Sales Channel</th>\n",
       "      <th>ship-service-level</th>\n",
       "      <th>Category</th>\n",
       "      <th>Size</th>\n",
       "      <th>Courier Status</th>\n",
       "      <th>...</th>\n",
       "      <th>currency</th>\n",
       "      <th>Amount</th>\n",
       "      <th>ship-city</th>\n",
       "      <th>ship-state</th>\n",
       "      <th>ship-postal-code</th>\n",
       "      <th>ship-country</th>\n",
       "      <th>B2B</th>\n",
       "      <th>fulfilled-by</th>\n",
       "      <th>New</th>\n",
       "      <th>PendingS</th>\n",
       "    </tr>\n",
       "  </thead>\n",
       "  <tbody>\n",
       "    <tr>\n",
       "      <th>0</th>\n",
       "      <td>0</td>\n",
       "      <td>405-8078784-5731545</td>\n",
       "      <td>04-30-22</td>\n",
       "      <td>Cancelled</td>\n",
       "      <td>Merchant</td>\n",
       "      <td>Amazon.in</td>\n",
       "      <td>Standard</td>\n",
       "      <td>T-shirt</td>\n",
       "      <td>S</td>\n",
       "      <td>On the Way</td>\n",
       "      <td>...</td>\n",
       "      <td>INR</td>\n",
       "      <td>647.62</td>\n",
       "      <td>MUMBAI</td>\n",
       "      <td>MAHARASHTRA</td>\n",
       "      <td>400081.0</td>\n",
       "      <td>IN</td>\n",
       "      <td>False</td>\n",
       "      <td>Easy Ship</td>\n",
       "      <td>NaN</td>\n",
       "      <td>NaN</td>\n",
       "    </tr>\n",
       "    <tr>\n",
       "      <th>1</th>\n",
       "      <td>1</td>\n",
       "      <td>171-9198151-1101146</td>\n",
       "      <td>04-30-22</td>\n",
       "      <td>Shipped - Delivered to Buyer</td>\n",
       "      <td>Merchant</td>\n",
       "      <td>Amazon.in</td>\n",
       "      <td>Standard</td>\n",
       "      <td>Shirt</td>\n",
       "      <td>3XL</td>\n",
       "      <td>Shipped</td>\n",
       "      <td>...</td>\n",
       "      <td>INR</td>\n",
       "      <td>406.00</td>\n",
       "      <td>BENGALURU</td>\n",
       "      <td>KARNATAKA</td>\n",
       "      <td>560085.0</td>\n",
       "      <td>IN</td>\n",
       "      <td>False</td>\n",
       "      <td>Easy Ship</td>\n",
       "      <td>NaN</td>\n",
       "      <td>NaN</td>\n",
       "    </tr>\n",
       "    <tr>\n",
       "      <th>2</th>\n",
       "      <td>2</td>\n",
       "      <td>404-0687676-7273146</td>\n",
       "      <td>04-30-22</td>\n",
       "      <td>Shipped</td>\n",
       "      <td>Amazon</td>\n",
       "      <td>Amazon.in</td>\n",
       "      <td>Expedited</td>\n",
       "      <td>Shirt</td>\n",
       "      <td>XL</td>\n",
       "      <td>Shipped</td>\n",
       "      <td>...</td>\n",
       "      <td>INR</td>\n",
       "      <td>329.00</td>\n",
       "      <td>NAVI MUMBAI</td>\n",
       "      <td>MAHARASHTRA</td>\n",
       "      <td>410210.0</td>\n",
       "      <td>IN</td>\n",
       "      <td>True</td>\n",
       "      <td>NaN</td>\n",
       "      <td>NaN</td>\n",
       "      <td>NaN</td>\n",
       "    </tr>\n",
       "    <tr>\n",
       "      <th>3</th>\n",
       "      <td>3</td>\n",
       "      <td>403-9615377-8133951</td>\n",
       "      <td>04-30-22</td>\n",
       "      <td>Cancelled</td>\n",
       "      <td>Merchant</td>\n",
       "      <td>Amazon.in</td>\n",
       "      <td>Standard</td>\n",
       "      <td>Blazzer</td>\n",
       "      <td>L</td>\n",
       "      <td>On the Way</td>\n",
       "      <td>...</td>\n",
       "      <td>INR</td>\n",
       "      <td>753.33</td>\n",
       "      <td>PUDUCHERRY</td>\n",
       "      <td>PUDUCHERRY</td>\n",
       "      <td>605008.0</td>\n",
       "      <td>IN</td>\n",
       "      <td>False</td>\n",
       "      <td>Easy Ship</td>\n",
       "      <td>NaN</td>\n",
       "      <td>NaN</td>\n",
       "    </tr>\n",
       "    <tr>\n",
       "      <th>4</th>\n",
       "      <td>4</td>\n",
       "      <td>407-1069790-7240320</td>\n",
       "      <td>04-30-22</td>\n",
       "      <td>Shipped</td>\n",
       "      <td>Amazon</td>\n",
       "      <td>Amazon.in</td>\n",
       "      <td>Expedited</td>\n",
       "      <td>Trousers</td>\n",
       "      <td>3XL</td>\n",
       "      <td>Shipped</td>\n",
       "      <td>...</td>\n",
       "      <td>INR</td>\n",
       "      <td>574.00</td>\n",
       "      <td>CHENNAI</td>\n",
       "      <td>TAMIL NADU</td>\n",
       "      <td>600073.0</td>\n",
       "      <td>IN</td>\n",
       "      <td>False</td>\n",
       "      <td>NaN</td>\n",
       "      <td>NaN</td>\n",
       "      <td>NaN</td>\n",
       "    </tr>\n",
       "    <tr>\n",
       "      <th>...</th>\n",
       "      <td>...</td>\n",
       "      <td>...</td>\n",
       "      <td>...</td>\n",
       "      <td>...</td>\n",
       "      <td>...</td>\n",
       "      <td>...</td>\n",
       "      <td>...</td>\n",
       "      <td>...</td>\n",
       "      <td>...</td>\n",
       "      <td>...</td>\n",
       "      <td>...</td>\n",
       "      <td>...</td>\n",
       "      <td>...</td>\n",
       "      <td>...</td>\n",
       "      <td>...</td>\n",
       "      <td>...</td>\n",
       "      <td>...</td>\n",
       "      <td>...</td>\n",
       "      <td>...</td>\n",
       "      <td>...</td>\n",
       "      <td>...</td>\n",
       "    </tr>\n",
       "    <tr>\n",
       "      <th>128971</th>\n",
       "      <td>128970</td>\n",
       "      <td>406-6001380-7673107</td>\n",
       "      <td>05-31-22</td>\n",
       "      <td>Shipped</td>\n",
       "      <td>Amazon</td>\n",
       "      <td>Amazon.in</td>\n",
       "      <td>Expedited</td>\n",
       "      <td>Shirt</td>\n",
       "      <td>XL</td>\n",
       "      <td>Shipped</td>\n",
       "      <td>...</td>\n",
       "      <td>INR</td>\n",
       "      <td>517.00</td>\n",
       "      <td>HYDERABAD</td>\n",
       "      <td>TELANGANA</td>\n",
       "      <td>500013.0</td>\n",
       "      <td>IN</td>\n",
       "      <td>False</td>\n",
       "      <td>NaN</td>\n",
       "      <td>NaN</td>\n",
       "      <td>NaN</td>\n",
       "    </tr>\n",
       "    <tr>\n",
       "      <th>128972</th>\n",
       "      <td>128971</td>\n",
       "      <td>402-9551604-7544318</td>\n",
       "      <td>05-31-22</td>\n",
       "      <td>Shipped</td>\n",
       "      <td>Amazon</td>\n",
       "      <td>Amazon.in</td>\n",
       "      <td>Expedited</td>\n",
       "      <td>T-shirt</td>\n",
       "      <td>M</td>\n",
       "      <td>Shipped</td>\n",
       "      <td>...</td>\n",
       "      <td>INR</td>\n",
       "      <td>999.00</td>\n",
       "      <td>GURUGRAM</td>\n",
       "      <td>HARYANA</td>\n",
       "      <td>122004.0</td>\n",
       "      <td>IN</td>\n",
       "      <td>False</td>\n",
       "      <td>NaN</td>\n",
       "      <td>NaN</td>\n",
       "      <td>NaN</td>\n",
       "    </tr>\n",
       "    <tr>\n",
       "      <th>128973</th>\n",
       "      <td>128972</td>\n",
       "      <td>407-9547469-3152358</td>\n",
       "      <td>05-31-22</td>\n",
       "      <td>Shipped</td>\n",
       "      <td>Amazon</td>\n",
       "      <td>Amazon.in</td>\n",
       "      <td>Expedited</td>\n",
       "      <td>Blazzer</td>\n",
       "      <td>XXL</td>\n",
       "      <td>Shipped</td>\n",
       "      <td>...</td>\n",
       "      <td>INR</td>\n",
       "      <td>690.00</td>\n",
       "      <td>HYDERABAD</td>\n",
       "      <td>TELANGANA</td>\n",
       "      <td>500049.0</td>\n",
       "      <td>IN</td>\n",
       "      <td>False</td>\n",
       "      <td>NaN</td>\n",
       "      <td>NaN</td>\n",
       "      <td>NaN</td>\n",
       "    </tr>\n",
       "    <tr>\n",
       "      <th>128974</th>\n",
       "      <td>128973</td>\n",
       "      <td>402-6184140-0545956</td>\n",
       "      <td>05-31-22</td>\n",
       "      <td>Shipped</td>\n",
       "      <td>Amazon</td>\n",
       "      <td>Amazon.in</td>\n",
       "      <td>Expedited</td>\n",
       "      <td>T-shirt</td>\n",
       "      <td>XS</td>\n",
       "      <td>Shipped</td>\n",
       "      <td>...</td>\n",
       "      <td>INR</td>\n",
       "      <td>1199.00</td>\n",
       "      <td>Halol</td>\n",
       "      <td>Gujarat</td>\n",
       "      <td>389350.0</td>\n",
       "      <td>IN</td>\n",
       "      <td>False</td>\n",
       "      <td>NaN</td>\n",
       "      <td>NaN</td>\n",
       "      <td>NaN</td>\n",
       "    </tr>\n",
       "    <tr>\n",
       "      <th>128975</th>\n",
       "      <td>128974</td>\n",
       "      <td>408-7436540-8728312</td>\n",
       "      <td>05-31-22</td>\n",
       "      <td>Shipped</td>\n",
       "      <td>Amazon</td>\n",
       "      <td>Amazon.in</td>\n",
       "      <td>Expedited</td>\n",
       "      <td>T-shirt</td>\n",
       "      <td>S</td>\n",
       "      <td>Shipped</td>\n",
       "      <td>...</td>\n",
       "      <td>INR</td>\n",
       "      <td>696.00</td>\n",
       "      <td>Raipur</td>\n",
       "      <td>CHHATTISGARH</td>\n",
       "      <td>492014.0</td>\n",
       "      <td>IN</td>\n",
       "      <td>False</td>\n",
       "      <td>NaN</td>\n",
       "      <td>NaN</td>\n",
       "      <td>NaN</td>\n",
       "    </tr>\n",
       "  </tbody>\n",
       "</table>\n",
       "<p>128976 rows × 21 columns</p>\n",
       "</div>"
      ],
      "text/plain": [
       "         index             Order ID      Date                        Status  \\\n",
       "0            0  405-8078784-5731545  04-30-22                     Cancelled   \n",
       "1            1  171-9198151-1101146  04-30-22  Shipped - Delivered to Buyer   \n",
       "2            2  404-0687676-7273146  04-30-22                       Shipped   \n",
       "3            3  403-9615377-8133951  04-30-22                     Cancelled   \n",
       "4            4  407-1069790-7240320  04-30-22                       Shipped   \n",
       "...        ...                  ...       ...                           ...   \n",
       "128971  128970  406-6001380-7673107  05-31-22                       Shipped   \n",
       "128972  128971  402-9551604-7544318  05-31-22                       Shipped   \n",
       "128973  128972  407-9547469-3152358  05-31-22                       Shipped   \n",
       "128974  128973  402-6184140-0545956  05-31-22                       Shipped   \n",
       "128975  128974  408-7436540-8728312  05-31-22                       Shipped   \n",
       "\n",
       "       Fulfilment Sales Channel ship-service-level  Category Size  \\\n",
       "0        Merchant     Amazon.in           Standard   T-shirt    S   \n",
       "1        Merchant     Amazon.in           Standard     Shirt  3XL   \n",
       "2          Amazon     Amazon.in          Expedited     Shirt   XL   \n",
       "3        Merchant     Amazon.in           Standard   Blazzer    L   \n",
       "4          Amazon     Amazon.in          Expedited  Trousers  3XL   \n",
       "...           ...           ...                ...       ...  ...   \n",
       "128971     Amazon     Amazon.in          Expedited     Shirt   XL   \n",
       "128972     Amazon     Amazon.in          Expedited   T-shirt    M   \n",
       "128973     Amazon     Amazon.in          Expedited   Blazzer  XXL   \n",
       "128974     Amazon     Amazon.in          Expedited   T-shirt   XS   \n",
       "128975     Amazon     Amazon.in          Expedited   T-shirt    S   \n",
       "\n",
       "       Courier Status  ...  currency   Amount    ship-city    ship-state  \\\n",
       "0          On the Way  ...       INR   647.62       MUMBAI   MAHARASHTRA   \n",
       "1             Shipped  ...       INR   406.00    BENGALURU     KARNATAKA   \n",
       "2             Shipped  ...       INR   329.00  NAVI MUMBAI   MAHARASHTRA   \n",
       "3          On the Way  ...       INR   753.33   PUDUCHERRY    PUDUCHERRY   \n",
       "4             Shipped  ...       INR   574.00      CHENNAI    TAMIL NADU   \n",
       "...               ...  ...       ...      ...          ...           ...   \n",
       "128971        Shipped  ...       INR   517.00    HYDERABAD     TELANGANA   \n",
       "128972        Shipped  ...       INR   999.00     GURUGRAM       HARYANA   \n",
       "128973        Shipped  ...       INR   690.00    HYDERABAD     TELANGANA   \n",
       "128974        Shipped  ...       INR  1199.00        Halol       Gujarat   \n",
       "128975        Shipped  ...       INR   696.00       Raipur  CHHATTISGARH   \n",
       "\n",
       "       ship-postal-code  ship-country    B2B  fulfilled-by New  PendingS  \n",
       "0              400081.0            IN  False     Easy Ship NaN       NaN  \n",
       "1              560085.0            IN  False     Easy Ship NaN       NaN  \n",
       "2              410210.0            IN   True           NaN NaN       NaN  \n",
       "3              605008.0            IN  False     Easy Ship NaN       NaN  \n",
       "4              600073.0            IN  False           NaN NaN       NaN  \n",
       "...                 ...           ...    ...           ...  ..       ...  \n",
       "128971         500013.0            IN  False           NaN NaN       NaN  \n",
       "128972         122004.0            IN  False           NaN NaN       NaN  \n",
       "128973         500049.0            IN  False           NaN NaN       NaN  \n",
       "128974         389350.0            IN  False           NaN NaN       NaN  \n",
       "128975         492014.0            IN  False           NaN NaN       NaN  \n",
       "\n",
       "[128976 rows x 21 columns]"
      ]
     },
     "execution_count": 11,
     "metadata": {},
     "output_type": "execute_result"
    }
   ],
   "source": [
    "df"
   ]
  },
  {
   "cell_type": "code",
   "execution_count": 15,
   "id": "03f585e7-059e-4aeb-8e90-f09bac7bc3fa",
   "metadata": {},
   "outputs": [
    {
     "data": {
      "text/plain": [
       "Index(['index', 'Order ID', 'Date', 'Status', 'Fulfilment', 'Sales Channel',\n",
       "       'ship-service-level', 'Category', 'Size', 'Courier Status', 'Qty',\n",
       "       'currency', 'Amount', 'ship-city', 'ship-state', 'ship-postal-code',\n",
       "       'ship-country', 'B2B', 'fulfilled-by', 'New', 'PendingS'],\n",
       "      dtype='object')"
      ]
     },
     "execution_count": 15,
     "metadata": {},
     "output_type": "execute_result"
    }
   ],
   "source": [
    "df.columns"
   ]
  },
  {
   "cell_type": "code",
   "execution_count": 17,
   "id": "a02e34d3-5f86-4413-b6c4-2b078ea1f7fc",
   "metadata": {},
   "outputs": [
    {
     "data": {
      "text/plain": [
       "(128976, 21)"
      ]
     },
     "execution_count": 17,
     "metadata": {},
     "output_type": "execute_result"
    }
   ],
   "source": [
    "df.shape"
   ]
  },
  {
   "cell_type": "code",
   "execution_count": 19,
   "id": "00687169-4aa5-49d8-85f4-8ac4a1329603",
   "metadata": {},
   "outputs": [
    {
     "name": "stdout",
     "output_type": "stream",
     "text": [
      "<class 'pandas.core.frame.DataFrame'>\n",
      "RangeIndex: 128976 entries, 0 to 128975\n",
      "Data columns (total 21 columns):\n",
      " #   Column              Non-Null Count   Dtype  \n",
      "---  ------              --------------   -----  \n",
      " 0   index               128976 non-null  int64  \n",
      " 1   Order ID            128976 non-null  object \n",
      " 2   Date                128976 non-null  object \n",
      " 3   Status              128976 non-null  object \n",
      " 4   Fulfilment          128976 non-null  object \n",
      " 5   Sales Channel       128976 non-null  object \n",
      " 6   ship-service-level  128976 non-null  object \n",
      " 7   Category            128976 non-null  object \n",
      " 8   Size                128976 non-null  object \n",
      " 9   Courier Status      128976 non-null  object \n",
      " 10  Qty                 128976 non-null  int64  \n",
      " 11  currency            121176 non-null  object \n",
      " 12  Amount              121176 non-null  float64\n",
      " 13  ship-city           128941 non-null  object \n",
      " 14  ship-state          128941 non-null  object \n",
      " 15  ship-postal-code    128941 non-null  float64\n",
      " 16  ship-country        128941 non-null  object \n",
      " 17  B2B                 128976 non-null  bool   \n",
      " 18  fulfilled-by        39263 non-null   object \n",
      " 19  New                 0 non-null       float64\n",
      " 20  PendingS            0 non-null       float64\n",
      "dtypes: bool(1), float64(4), int64(2), object(14)\n",
      "memory usage: 19.8+ MB\n"
     ]
    }
   ],
   "source": [
    "df.info()"
   ]
  },
  {
   "cell_type": "code",
   "execution_count": 21,
   "id": "bd5f8039-1eb4-454d-9213-f9beab9b734e",
   "metadata": {},
   "outputs": [
    {
     "name": "stdout",
     "output_type": "stream",
     "text": [
      "index                   0.000000\n",
      "Order ID                0.000000\n",
      "Date                    0.000000\n",
      "Status                  0.000000\n",
      "Fulfilment              0.000000\n",
      "Sales Channel           0.000000\n",
      "ship-service-level      0.000000\n",
      "Category                0.000000\n",
      "Size                    0.000000\n",
      "Courier Status          0.000000\n",
      "Qty                     0.000000\n",
      "currency                6.047637\n",
      "Amount                  6.047637\n",
      "ship-city               0.027137\n",
      "ship-state              0.027137\n",
      "ship-postal-code        0.027137\n",
      "ship-country            0.027137\n",
      "B2B                     0.000000\n",
      "fulfilled-by           69.557902\n",
      "New                   100.000000\n",
      "PendingS              100.000000\n",
      "dtype: float64\n"
     ]
    }
   ],
   "source": [
    "miss_per = df.isnull().mean()*100\n",
    "print(miss_per)"
   ]
  },
  {
   "cell_type": "code",
   "execution_count": 23,
   "id": "d0e26324-deea-4698-b3aa-982440f11f07",
   "metadata": {},
   "outputs": [
    {
     "name": "stdout",
     "output_type": "stream",
     "text": [
      "['Easy Ship' nan]\n"
     ]
    }
   ],
   "source": [
    "print(df['fulfilled-by'].unique())"
   ]
  },
  {
   "cell_type": "code",
   "execution_count": 25,
   "id": "fc80ab07-63a5-42a1-9253-fd28dd488cd0",
   "metadata": {},
   "outputs": [
    {
     "name": "stderr",
     "output_type": "stream",
     "text": [
      "C:\\Users\\dipti\\AppData\\Local\\Temp\\ipykernel_9768\\2731971646.py:1: FutureWarning: A value is trying to be set on a copy of a DataFrame or Series through chained assignment using an inplace method.\n",
      "The behavior will change in pandas 3.0. This inplace method will never work because the intermediate object on which we are setting values always behaves as a copy.\n",
      "\n",
      "For example, when doing 'df[col].method(value, inplace=True)', try using 'df.method({col: value}, inplace=True)' or df[col] = df[col].method(value) instead, to perform the operation inplace on the original object.\n",
      "\n",
      "\n",
      "  df['fulfilled-by'].fillna('easy ship', inplace=True)\n"
     ]
    }
   ],
   "source": [
    "df['fulfilled-by'].fillna('easy ship', inplace=True)\n"
   ]
  },
  {
   "cell_type": "code",
   "execution_count": 27,
   "id": "b15208e7-0d15-40e3-9f03-f3fdc8bc9839",
   "metadata": {},
   "outputs": [
    {
     "name": "stdout",
     "output_type": "stream",
     "text": [
      "<class 'pandas.core.frame.DataFrame'>\n",
      "RangeIndex: 128976 entries, 0 to 128975\n",
      "Data columns (total 21 columns):\n",
      " #   Column              Non-Null Count   Dtype  \n",
      "---  ------              --------------   -----  \n",
      " 0   index               128976 non-null  int64  \n",
      " 1   Order ID            128976 non-null  object \n",
      " 2   Date                128976 non-null  object \n",
      " 3   Status              128976 non-null  object \n",
      " 4   Fulfilment          128976 non-null  object \n",
      " 5   Sales Channel       128976 non-null  object \n",
      " 6   ship-service-level  128976 non-null  object \n",
      " 7   Category            128976 non-null  object \n",
      " 8   Size                128976 non-null  object \n",
      " 9   Courier Status      128976 non-null  object \n",
      " 10  Qty                 128976 non-null  int64  \n",
      " 11  currency            121176 non-null  object \n",
      " 12  Amount              121176 non-null  float64\n",
      " 13  ship-city           128941 non-null  object \n",
      " 14  ship-state          128941 non-null  object \n",
      " 15  ship-postal-code    128941 non-null  float64\n",
      " 16  ship-country        128941 non-null  object \n",
      " 17  B2B                 128976 non-null  bool   \n",
      " 18  fulfilled-by        128976 non-null  object \n",
      " 19  New                 0 non-null       float64\n",
      " 20  PendingS            0 non-null       float64\n",
      "dtypes: bool(1), float64(4), int64(2), object(14)\n",
      "memory usage: 19.8+ MB\n"
     ]
    }
   ],
   "source": [
    "df.info()"
   ]
  },
  {
   "cell_type": "code",
   "execution_count": 29,
   "id": "939225eb-c6c0-45ce-bc40-adbeb7e3890d",
   "metadata": {},
   "outputs": [
    {
     "name": "stdout",
     "output_type": "stream",
     "text": [
      "index                   0.000000\n",
      "Order ID                0.000000\n",
      "Date                    0.000000\n",
      "Status                  0.000000\n",
      "Fulfilment              0.000000\n",
      "Sales Channel           0.000000\n",
      "ship-service-level      0.000000\n",
      "Category                0.000000\n",
      "Size                    0.000000\n",
      "Courier Status          0.000000\n",
      "Qty                     0.000000\n",
      "currency                6.047637\n",
      "Amount                  6.047637\n",
      "ship-city               0.027137\n",
      "ship-state              0.027137\n",
      "ship-postal-code        0.027137\n",
      "ship-country            0.027137\n",
      "B2B                     0.000000\n",
      "fulfilled-by            0.000000\n",
      "New                   100.000000\n",
      "PendingS              100.000000\n",
      "dtype: float64\n"
     ]
    }
   ],
   "source": [
    "miss_per = df.isnull().mean()*100\n",
    "print(miss_per)"
   ]
  },
  {
   "cell_type": "code",
   "execution_count": 31,
   "id": "7f9fb065-91cb-4947-a1d4-b261fef6c073",
   "metadata": {},
   "outputs": [],
   "source": [
    "# df.drop(columns=['fulfilled-by'], inplace=True)\n"
   ]
  },
  {
   "cell_type": "code",
   "execution_count": 33,
   "id": "0b9a9609-c015-45a7-b8c3-19dd050b546c",
   "metadata": {},
   "outputs": [
    {
     "data": {
      "text/plain": [
       "605.0"
      ]
     },
     "execution_count": 33,
     "metadata": {},
     "output_type": "execute_result"
    }
   ],
   "source": [
    "df['Amount'].median()"
   ]
  },
  {
   "cell_type": "code",
   "execution_count": 35,
   "id": "4964c18f-4a5a-4fad-856d-877349a48b77",
   "metadata": {},
   "outputs": [
    {
     "data": {
      "text/plain": [
       "0    399.0\n",
       "Name: Amount, dtype: float64"
      ]
     },
     "execution_count": 35,
     "metadata": {},
     "output_type": "execute_result"
    }
   ],
   "source": [
    "df['Amount'].mode()"
   ]
  },
  {
   "cell_type": "code",
   "execution_count": 37,
   "id": "4d2d64bb-4007-45b5-93c7-aef24f2e64b6",
   "metadata": {},
   "outputs": [
    {
     "data": {
      "image/png": "[encoded data removed]",
      "text/plain": [
       "<Figure size 640x480 with 1 Axes>"
      ]
     },
     "metadata": {},
     "output_type": "display_data"
    }
   ],
   "source": [
    "import matplotlib.pyplot as plt\n",
    "df['Amount'].plot(kind='box', title='Boxplot for Amount')\n",
    "plt.show()"
   ]
  },
  {
   "cell_type": "code",
   "execution_count": 39,
   "id": "db2fd849-27ae-4f32-aac8-d36e29fcd4a1",
   "metadata": {},
   "outputs": [],
   "source": [
    "df['Amount'] = df['Amount'].fillna(df['Amount'].median())"
   ]
  },
  {
   "cell_type": "code",
   "execution_count": 41,
   "id": "6e4fe3df-38eb-48d2-ac07-1f2f6d711ea9",
   "metadata": {},
   "outputs": [
    {
     "data": {
      "text/plain": [
       "0    INR\n",
       "Name: currency, dtype: object"
      ]
     },
     "execution_count": 41,
     "metadata": {},
     "output_type": "execute_result"
    }
   ],
   "source": [
    "df['currency'].mode()"
   ]
  },
  {
   "cell_type": "code",
   "execution_count": 43,
   "id": "ac177ea8-6d08-40c8-abe9-a1c27d86e4c1",
   "metadata": {},
   "outputs": [],
   "source": [
    "df['currency'] = df['currency'].fillna(df['currency'].mode()[0])"
   ]
  },
  {
   "cell_type": "code",
   "execution_count": 45,
   "id": "c7745fe9-5525-4561-8cdd-e998e5325e42",
   "metadata": {},
   "outputs": [
    {
     "name": "stdout",
     "output_type": "stream",
     "text": [
      "index                   0.000000\n",
      "Order ID                0.000000\n",
      "Date                    0.000000\n",
      "Status                  0.000000\n",
      "Fulfilment              0.000000\n",
      "Sales Channel           0.000000\n",
      "ship-service-level      0.000000\n",
      "Category                0.000000\n",
      "Size                    0.000000\n",
      "Courier Status          0.000000\n",
      "Qty                     0.000000\n",
      "currency                0.000000\n",
      "Amount                  0.000000\n",
      "ship-city               0.027137\n",
      "ship-state              0.027137\n",
      "ship-postal-code        0.027137\n",
      "ship-country            0.027137\n",
      "B2B                     0.000000\n",
      "fulfilled-by            0.000000\n",
      "New                   100.000000\n",
      "PendingS              100.000000\n",
      "dtype: float64\n"
     ]
    }
   ],
   "source": [
    "miss_per = df.isnull().mean()*100\n",
    "print(miss_per)"
   ]
  },
  {
   "cell_type": "code",
   "execution_count": 47,
   "id": "6e5697ca-9403-4ff0-8335-134f1044afa7",
   "metadata": {},
   "outputs": [],
   "source": [
    "df.drop(columns=['PendingS'],inplace=True)"
   ]
  },
  {
   "cell_type": "code",
   "execution_count": 49,
   "id": "d0c22c51-60bf-491e-97eb-14606f68c2cd",
   "metadata": {},
   "outputs": [],
   "source": [
    "df.drop(columns=['New'],inplace=True)"
   ]
  },
  {
   "cell_type": "code",
   "execution_count": 51,
   "id": "c4c67909-d5d5-469f-8692-3790a688ce84",
   "metadata": {},
   "outputs": [
    {
     "data": {
      "text/plain": [
       "Index(['index', 'Order ID', 'Date', 'Status', 'Fulfilment', 'Sales Channel',\n",
       "       'ship-service-level', 'Category', 'Size', 'Courier Status', 'Qty',\n",
       "       'currency', 'Amount', 'ship-city', 'ship-state', 'ship-postal-code',\n",
       "       'ship-country', 'B2B', 'fulfilled-by'],\n",
       "      dtype='object')"
      ]
     },
     "execution_count": 51,
     "metadata": {},
     "output_type": "execute_result"
    }
   ],
   "source": [
    "df.columns"
   ]
  },
  {
   "cell_type": "code",
   "execution_count": 53,
   "id": "cd1c34be-8a78-40b6-8eb9-8f4b3c854729",
   "metadata": {},
   "outputs": [],
   "source": [
    "miss_per = df.isnull().mean()*100"
   ]
  },
  {
   "cell_type": "code",
   "execution_count": 55,
   "id": "d58a6230-c2eb-4e8a-accb-61c4e32b1418",
   "metadata": {},
   "outputs": [
    {
     "data": {
      "text/plain": [
       "index                 0.000000\n",
       "Order ID              0.000000\n",
       "Date                  0.000000\n",
       "Status                0.000000\n",
       "Fulfilment            0.000000\n",
       "Sales Channel         0.000000\n",
       "ship-service-level    0.000000\n",
       "Category              0.000000\n",
       "Size                  0.000000\n",
       "Courier Status        0.000000\n",
       "Qty                   0.000000\n",
       "currency              0.000000\n",
       "Amount                0.000000\n",
       "ship-city             0.027137\n",
       "ship-state            0.027137\n",
       "ship-postal-code      0.027137\n",
       "ship-country          0.027137\n",
       "B2B                   0.000000\n",
       "fulfilled-by          0.000000\n",
       "dtype: float64"
      ]
     },
     "execution_count": 55,
     "metadata": {},
     "output_type": "execute_result"
    }
   ],
   "source": [
    "miss_per"
   ]
  },
  {
   "cell_type": "code",
   "execution_count": 57,
   "id": "7ffad55b-ee96-465e-a5e0-289317fdda76",
   "metadata": {},
   "outputs": [
    {
     "data": {
      "text/plain": [
       "128941"
      ]
     },
     "execution_count": 57,
     "metadata": {},
     "output_type": "execute_result"
    }
   ],
   "source": [
    "df['ship-city'].count()"
   ]
  },
  {
   "cell_type": "code",
   "execution_count": 59,
   "id": "2b62e212-3fe6-4a9d-a383-4cc0200fd64a",
   "metadata": {},
   "outputs": [
    {
     "data": {
      "text/plain": [
       "0         False\n",
       "1         False\n",
       "2         False\n",
       "3         False\n",
       "4         False\n",
       "          ...  \n",
       "128971    False\n",
       "128972    False\n",
       "128973    False\n",
       "128974    False\n",
       "128975    False\n",
       "Name: ship-city, Length: 128976, dtype: bool"
      ]
     },
     "execution_count": 59,
     "metadata": {},
     "output_type": "execute_result"
    }
   ],
   "source": [
    "df['ship-city'].isnull()"
   ]
  },
  {
   "cell_type": "code",
   "execution_count": 61,
   "id": "77f683ac-c85f-4e46-a71b-53644bd51e40",
   "metadata": {},
   "outputs": [
    {
     "data": {
      "text/plain": [
       "35"
      ]
     },
     "execution_count": 61,
     "metadata": {},
     "output_type": "execute_result"
    }
   ],
   "source": [
    "df['ship-city'].isnull().sum()"
   ]
  },
  {
   "cell_type": "code",
   "execution_count": 63,
   "id": "a8b53427-5fa2-48af-afc1-243a6aaf3581",
   "metadata": {},
   "outputs": [],
   "source": [
    "df['ship-city'] = df['ship-city'].fillna(df['ship-city'].mode()[0])"
   ]
  },
  {
   "cell_type": "code",
   "execution_count": 65,
   "id": "4f555022-6cc1-44fb-bdab-961b742caca9",
   "metadata": {},
   "outputs": [],
   "source": [
    "df['ship-state'] = df['ship-state'].fillna(df['ship-state'].mode()[0])"
   ]
  },
  {
   "cell_type": "code",
   "execution_count": 67,
   "id": "b3f6feb3-f211-4b9e-bc7d-d062e914175a",
   "metadata": {},
   "outputs": [],
   "source": [
    "df['ship-country'] = df['ship-country'].fillna(df['ship-country'].mode()[0])"
   ]
  },
  {
   "cell_type": "code",
   "execution_count": 69,
   "id": "5c1d74f4-a21b-4218-9353-13642a1f3a58",
   "metadata": {},
   "outputs": [
    {
     "data": {
      "text/plain": [
       "index                 0.000000\n",
       "Order ID              0.000000\n",
       "Date                  0.000000\n",
       "Status                0.000000\n",
       "Fulfilment            0.000000\n",
       "Sales Channel         0.000000\n",
       "ship-service-level    0.000000\n",
       "Category              0.000000\n",
       "Size                  0.000000\n",
       "Courier Status        0.000000\n",
       "Qty                   0.000000\n",
       "currency              0.000000\n",
       "Amount                0.000000\n",
       "ship-city             0.000000\n",
       "ship-state            0.000000\n",
       "ship-postal-code      0.027137\n",
       "ship-country          0.000000\n",
       "B2B                   0.000000\n",
       "fulfilled-by          0.000000\n",
       "dtype: float64"
      ]
     },
     "execution_count": 69,
     "metadata": {},
     "output_type": "execute_result"
    }
   ],
   "source": [
    "df.isnull().mean()*100"
   ]
  },
  {
   "cell_type": "code",
   "execution_count": 71,
   "id": "634cfacd-36ce-4c8e-9617-7ef77d6d9384",
   "metadata": {},
   "outputs": [
    {
     "data": {
      "text/plain": [
       "463945.6777440845"
      ]
     },
     "execution_count": 71,
     "metadata": {},
     "output_type": "execute_result"
    }
   ],
   "source": [
    "df['ship-postal-code'].mean()"
   ]
  },
  {
   "cell_type": "code",
   "execution_count": 73,
   "id": "1cc7c944-2e27-414f-91ad-ea7c21533e09",
   "metadata": {},
   "outputs": [
    {
     "data": {
      "text/plain": [
       "500033.0"
      ]
     },
     "execution_count": 73,
     "metadata": {},
     "output_type": "execute_result"
    }
   ],
   "source": [
    "df['ship-postal-code'].median()"
   ]
  },
  {
   "cell_type": "code",
   "execution_count": 75,
   "id": "d2e24aa4-6665-47cc-b74e-aeb927a00b84",
   "metadata": {},
   "outputs": [],
   "source": [
    "# import matplotlib.pyplot as plt\n",
    "# df['Amount'].plot(kind='box', title='Boxplot for Amount')\n",
    "# plt.show()"
   ]
  },
  {
   "cell_type": "code",
   "execution_count": 77,
   "id": "49657155-b660-4623-8ef3-5f47e00647ed",
   "metadata": {},
   "outputs": [
    {
     "data": {
      "image/png": "[encoded data removed]",
      "text/plain": [
       "<Figure size 640x480 with 1 Axes>"
      ]
     },
     "metadata": {},
     "output_type": "display_data"
    }
   ],
   "source": [
    "import matplotlib.pyplot as plt\n",
    "df['ship-postal-code'].plot(kind ='box',title ='Boxplot for amount')\n",
    "plt.show()"
   ]
  },
  {
   "cell_type": "code",
   "execution_count": 79,
   "id": "1b5a2077-a347-4564-ab1b-105472aec412",
   "metadata": {},
   "outputs": [],
   "source": [
    "df['ship-postal-code']= df['ship-postal-code'].fillna(df['ship-postal-code'].mode()[0])"
   ]
  },
  {
   "cell_type": "code",
   "execution_count": 81,
   "id": "d61a87ad-2a38-488a-993c-f1c1ba87de86",
   "metadata": {},
   "outputs": [
    {
     "data": {
      "text/plain": [
       "index                 0.0\n",
       "Order ID              0.0\n",
       "Date                  0.0\n",
       "Status                0.0\n",
       "Fulfilment            0.0\n",
       "Sales Channel         0.0\n",
       "ship-service-level    0.0\n",
       "Category              0.0\n",
       "Size                  0.0\n",
       "Courier Status        0.0\n",
       "Qty                   0.0\n",
       "currency              0.0\n",
       "Amount                0.0\n",
       "ship-city             0.0\n",
       "ship-state            0.0\n",
       "ship-postal-code      0.0\n",
       "ship-country          0.0\n",
       "B2B                   0.0\n",
       "fulfilled-by          0.0\n",
       "dtype: float64"
      ]
     },
     "execution_count": 81,
     "metadata": {},
     "output_type": "execute_result"
    }
   ],
   "source": [
    "df.isnull().mean()*100"
   ]
  },
  {
   "cell_type": "code",
   "execution_count": 83,
   "id": "991a162a-7484-4756-a9be-9036f0a42e46",
   "metadata": {},
   "outputs": [
    {
     "name": "stderr",
     "output_type": "stream",
     "text": [
      "C:\\Users\\dipti\\AppData\\Local\\Temp\\ipykernel_9768\\1423341283.py:1: UserWarning: Could not infer format, so each element will be parsed individually, falling back to `dateutil`. To ensure parsing is consistent and as-expected, please specify a format.\n",
      "  df['Date'] = pd.to_datetime(df['Date'],errors='coerce')\n"
     ]
    }
   ],
   "source": [
    "df['Date'] = pd.to_datetime(df['Date'],errors='coerce')"
   ]
  },
  {
   "cell_type": "code",
   "execution_count": 85,
   "id": "158fc85b-c5db-460f-97ba-76c70511aae1",
   "metadata": {},
   "outputs": [
    {
     "data": {
      "text/plain": [
       "dtype('<M8[ns]')"
      ]
     },
     "execution_count": 85,
     "metadata": {},
     "output_type": "execute_result"
    }
   ],
   "source": [
    "df['Date'].dtypes"
   ]
  },
  {
   "cell_type": "code",
   "execution_count": 87,
   "id": "33ba342d-80b6-4ad4-8b84-520d1a33e70b",
   "metadata": {},
   "outputs": [],
   "source": [
    "df.to_csv('C:/Users/dipti/Downloads/Cleaned_Amazon_Sale.csv')"
   ]
  },
  {
   "cell_type": "code",
   "execution_count": null,
   "id": "b416be84-2b4c-466c-abcf-357029236783",
   "metadata": {},
   "outputs": [],
   "source": []
  },
  {
   "cell_type": "code",
   "execution_count": null,
   "id": "c05e8467-84d5-4655-9163-aebbfd10b0b1",
   "metadata": {},
   "outputs": [],
   "source": []
  }
 ],
 "metadata": {
  "kernelspec": {
   "display_name": "Python 3 (ipykernel)",
   "language": "python",
   "name": "python3"
  },
  "language_info": {
   "codemirror_mode": {
    "name": "ipython",
    "version": 3
   },
   "file_extension": ".py",
   "mimetype": "text/x-python",
   "name": "python",
   "nbconvert_exporter": "python",
   "pygments_lexer": "ipython3",
   "version": "3.12.4"
  }
 },
 "nbformat": 4,
 "nbformat_minor": 5
}
